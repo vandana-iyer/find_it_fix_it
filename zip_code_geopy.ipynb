{
 "cells": [
  {
   "cell_type": "code",
   "execution_count": null,
   "metadata": {},
   "outputs": [],
   "source": [
    "import pandas as pd\n"
   ]
  },
  {
   "cell_type": "code",
   "execution_count": null,
   "metadata": {},
   "outputs": [],
   "source": [
    "def geocode(city, recursion=0):\n",
    "    try:\n",
    "        return geolocator.geocode(city)\n",
    "    except GeocoderTimedOut as e:\n",
    "        if recursion > 10:      # max recursions\n",
    "            raise e\n",
    "\n",
    "        time.sleep(1) # wait a bit\n",
    "        # try again\n",
    "        return geocode(city, recursion=recursion + 1)"
   ]
  }
 ],
 "metadata": {
  "kernelspec": {
   "display_name": "Python 3",
   "language": "python",
   "name": "python3"
  },
  "language_info": {
   "codemirror_mode": {
    "name": "ipython",
    "version": 3
   },
   "file_extension": ".py",
   "mimetype": "text/x-python",
   "name": "python",
   "nbconvert_exporter": "python",
   "pygments_lexer": "ipython3",
   "version": "3.7.2"
  }
 },
 "nbformat": 4,
 "nbformat_minor": 2
}
